{
 "cells": [
  {
   "cell_type": "code",
   "execution_count": 1,
   "metadata": {
    "ExecuteTime": {
     "end_time": "2022-08-03T17:34:42.032863Z",
     "start_time": "2022-08-03T17:34:42.024207Z"
    },
    "id": "Gt8Y8u0oDwPZ"
   },
   "outputs": [],
   "source": [
    "import os"
   ]
  },
  {
   "cell_type": "markdown",
   "metadata": {},
   "source": [
    "ספריות נדרשות עבור הרצת הפרוייקט"
   ]
  },
  {
   "cell_type": "code",
   "execution_count": 2,
   "metadata": {
    "ExecuteTime": {
     "end_time": "2022-08-03T17:34:55.550700Z",
     "start_time": "2022-08-03T17:34:42.525264Z"
    },
    "colab": {
     "base_uri": "https://localhost:8080/",
     "height": 194
    },
    "id": "lqU5vC_ICJRw",
    "outputId": "d1a5e85d-e710-45a8-d94a-bce8c34d5a63"
   },
   "outputs": [],
   "source": [
    "import os\n",
    "import cv2\n",
    "import numpy as np\n",
    "import mediapipe as mp\n",
    "import time\n",
    "# store background images in a list\n",
    "image_path = os.getcwd()+'/Images/'\n",
    "images = os.listdir(image_path)"
   ]
  },
  {
   "cell_type": "markdown",
   "metadata": {},
   "source": [
    "יצירת מסלול עבור התמונה אותה נרצה לשים בתור רקע \n",
    "אינדקס 0 אומר התמונה במקום ה0 מתוך התיקיה ץ אם נרצה תמונה אחרת נחליף את האינדקס"
   ]
  },
  {
   "cell_type": "code",
   "execution_count": 3,
   "metadata": {
    "ExecuteTime": {
     "end_time": "2022-08-03T17:34:57.816288Z",
     "start_time": "2022-08-03T17:34:57.670136Z"
    },
    "colab": {
     "base_uri": "https://localhost:8080/",
     "height": 194
    },
    "id": "lqU5vC_ICJRw",
    "outputId": "d1a5e85d-e710-45a8-d94a-bce8c34d5a63"
   },
   "outputs": [],
   "source": [
    "image_index= 0\n",
    "bg_image = cv2.imread(image_path+'/'+images[image_index])\n",
    "cv2.imshow(\"Frame\", bg_image)"
   ]
  },
  {
   "cell_type": "code",
   "execution_count": 4,
   "metadata": {
    "ExecuteTime": {
     "end_time": "2022-08-03T17:34:58.645931Z",
     "start_time": "2022-08-03T17:34:58.635594Z"
    },
    "id": "1xiQhVYiCL2j"
   },
   "outputs": [],
   "source": [
    "mp_selfie_segmentation = mp.solutions.selfie_segmentation\n",
    "selfie_segmentation = mp_selfie_segmentation.SelfieSegmentation(model_selection=1)"
   ]
  },
  {
   "cell_type": "markdown",
   "metadata": {},
   "source": [
    "פונקציות אלו יוצרות אובייקט מתוך cv2\n",
    "\n",
    "כל זאת על מנת שנוכל להשתמש בפונקציונליות של הספריה המבוקשת\n",
    "\n",
    "rgb - תמונה מורכבת מ3 שכבות \n",
    "אדום r\n",
    "ירוק g\n",
    "כחול b \n",
    "התמונות הן בעצם מערך של מספרים מ0 עד 255 עבורן כל ערך מגדיר (כמקשה אחת מורכבת) את התמונה עצמה \n",
    "\n",
    "כאשר 0 - נטול צבע באותו ערך  ו 255 זה הערך הגבוהה ביותר.\n",
    "\n",
    "כאן אנחנו מבקשים לפתוח את המצלמהץ\n",
    "\n",
    "כל עוד המצלמה פתוחה (תנאי הwhile( :\n",
    "\n",
    "אנחנו נשתמש באורך וגובה _ונהפוך אותן לפי האקס שלו ץ\n",
    "\n",
    "לאחר מכן נבצע מסקינג על מנת שנחליף את התמונה בהתאם \n",
    "\n",
    "נבקש להמתין בעזרת הוויט \n",
    "\n",
    "לאחר מכן אנחנו נרצה את אותם המימדים של התמונה המקורית עבור הרקע אחרת לא נקבל תוצאה רצוינ (כל זאת עבור התמונה המבוקשת - כזכור התמונה הראשונה באינדקס 0)\n",
    "\n",
    "נעשה שינוי מימד כמו שנדרשים\n",
    "\n",
    "ונבקש להציג את התמונה \n",
    "\n",
    "התוצאה תתן לנו את ההרגשה של החלפת רקע כאשר הביצוע היה לשים תמונה שתרוץ איתנו כל עוד המלצמה דלוקה ופתוחה \n",
    "\n",
    "בכדי להחליף תמונה אנו נדרשים רק ללחוץ על d או על האות q על מנת לעצור את התהליך ולצאת "
   ]
  },
  {
   "cell_type": "code",
   "execution_count": 5,
   "metadata": {
    "ExecuteTime": {
     "end_time": "2022-08-03T17:36:02.716685Z",
     "start_time": "2022-08-03T17:35:01.876486Z"
    },
    "id": "Ny5tOidtCQee"
   },
   "outputs": [],
   "source": [
    "cap = cv2.VideoCapture(0)\n",
    "while cap.isOpened():\n",
    "    _, frame = cap.read()\n",
    "  # flip the frame to horizontal direction\n",
    "    frame = cv2.flip(frame, 1)\n",
    "    height , width, channel = frame.shape\n",
    "    RGB = cv2.cvtColor(frame, cv2.COLOR_BGR2RGB)\n",
    "  # get the result\n",
    "    results = selfie_segmentation.process(RGB)\n",
    "  # extract segmented mask\n",
    "    mask = results.segmentation_mask\n",
    "  # show outputs\n",
    "    cv2.imshow(\"mask\", mask)\n",
    "    cv2.imshow(\"Frame\", frame)\n",
    "    key = cv2.waitKey(1)\n",
    "    if key == ord('q'):\n",
    "        break\n",
    "    condition = np.stack(\n",
    "    (results.segmentation_mask,) * 3, axis=-1) > 0.5\n",
    "  # resize the background image to the same size of the original frame\n",
    "    bg_image = cv2.resize(bg_image, (width, height))\n",
    "  # combine frame and background image using the condition\n",
    "    output_image = np.where(condition, frame, bg_image)\n",
    "    cv2.imshow(\"Output\", output_image)\n",
    "    cv2.imshow(\"Frame\", frame)\n",
    "    time.sleep(2)\n",
    "    key = cv2.waitKey(1)\n",
    "    if key == ord('q'):\n",
    "        break\n",
    "  # if 'd' key is pressed then change the background image\n",
    "    elif key == ord('d'):\n",
    "        if image_index != len(images)-1:\n",
    "              image_index += 1\n",
    "        else:\n",
    "              image_index = 0\n",
    "        bg_image = cv2.imread(image_path+'/'+images[image_index])\n"
   ]
  },
  {
   "cell_type": "code",
   "execution_count": null,
   "metadata": {},
   "outputs": [],
   "source": []
  }
 ],
 "metadata": {
  "accelerator": "GPU",
  "colab": {
   "collapsed_sections": [],
   "name": "Fiver-Work.ipynb",
   "provenance": []
  },
  "kernelspec": {
   "display_name": "Python 3 (ipykernel)",
   "language": "python",
   "name": "python3"
  },
  "language_info": {
   "codemirror_mode": {
    "name": "ipython",
    "version": 3
   },
   "file_extension": ".py",
   "mimetype": "text/x-python",
   "name": "python",
   "nbconvert_exporter": "python",
   "pygments_lexer": "ipython3",
   "version": "3.10.6"
  }
 },
 "nbformat": 4,
 "nbformat_minor": 1
}
